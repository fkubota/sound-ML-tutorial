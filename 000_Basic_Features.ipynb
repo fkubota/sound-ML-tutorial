{
 "cells": [
  {
   "cell_type": "markdown",
   "metadata": {},
   "source": [
    "# Introduction\n",
    "- このノートブックでは、音から抽出される特徴量について勉強します。\n",
    "- 日本語の解説はあくまでイメージです。\n",
    "- 正確な理解のために数式をじっと見てください。"
   ]
  },
  {
   "cell_type": "markdown",
   "metadata": {},
   "source": [
    "# Let's import everything We nead :)"
   ]
  },
  {
   "cell_type": "code",
   "execution_count": 4,
   "metadata": {},
   "outputs": [],
   "source": [
    "import numpy as np\n",
    "import matplotlib.pyplot as plt\n",
    "import librosa"
   ]
  },
  {
   "cell_type": "markdown",
   "metadata": {},
   "source": [
    "# Data Preparation"
   ]
  },
  {
   "cell_type": "code",
   "execution_count": 5,
   "metadata": {},
   "outputs": [],
   "source": [
    "filename = librosa.util.example_audio_file()\n",
    "data, sr = librosa.load(filename)"
   ]
  },
  {
   "cell_type": "markdown",
   "metadata": {},
   "source": [
    "# Features\n",
    "- CDの音源を例に取ると、1秒間に44100個ものデータが格納されています。つまり、sample rate = 44100 となります。\n",
    "- このとき、値一つ一つは音の大きさを意味しますが、それ自体から意味を見出すのは難しいことは容易に想像できます。\n",
    "- 例えば、小さい音が急に大きくなって100という値を取った。ずっと同程度の大きさ音が続いていて、その値が100だったというのは、同じ100という大きさの音でも意味がまったく違います。\n",
    "- 時系列データというのは、前後の関係が重要になります。\n",
    "- もちろん、Energy というような大きさそのものから抽出される特徴もありますが、通常は前後の関係から抽出される量を用います。\n",
    "- 今回は例として、windoe_size = 0.5 s, window_stride = 0.25 s という状況を想定します。\n",
    "- window_stride と、window_size はそれぞれ短時間フーリエ変換のパラメータです。"
   ]
  },
  {
   "cell_type": "markdown",
   "metadata": {},
   "source": [
    "## ZCR(x) # zero crossing rate"
   ]
  },
  {
   "cell_type": "markdown",
   "metadata": {},
   "source": [
    "- x が＋ から - に切り替わるタイミング、つまり、$x=0$を通過する回数です。\n",
    "- この量が重要な理由は私はよくわかりません。\n",
    "- 細かい係数などは、ライブラリによって違いますの、ZCRの値そのもは単純に回数ではないことは頭に置いておいてください。"
   ]
  },
  {
   "cell_type": "markdown",
   "metadata": {},
   "source": [
    "## Energy(x)"
   ]
  }
 ],
 "metadata": {
  "kernelspec": {
   "display_name": "Python 3",
   "language": "python",
   "name": "python3"
  },
  "language_info": {
   "codemirror_mode": {
    "name": "ipython",
    "version": 3
   },
   "file_extension": ".py",
   "mimetype": "text/x-python",
   "name": "python",
   "nbconvert_exporter": "python",
   "pygments_lexer": "ipython3",
   "version": "3.6.8"
  }
 },
 "nbformat": 4,
 "nbformat_minor": 2
}
