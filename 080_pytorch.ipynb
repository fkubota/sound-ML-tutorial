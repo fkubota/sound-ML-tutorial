{
 "cells": [
  {
   "cell_type": "markdown",
   "metadata": {},
   "source": [
    "# Introduction\n",
    "- pytorch の使い方を簡単に説明します。\n",
    "- より詳しいチュートリアルは、公式がおすすめです。\n",
    " >  https://pytorch.org/tutorials/beginner/deep_learning_60min_blitz.html\n",
    " \n",
    "- 今回は、iris データセットを使って、分類問題を解いてみたいと思います。"
   ]
  },
  {
   "cell_type": "markdown",
   "metadata": {},
   "source": [
    "# Let's import everything we need :)"
   ]
  },
  {
   "cell_type": "code",
   "execution_count": 53,
   "metadata": {},
   "outputs": [],
   "source": [
    "import numpy as np\n",
    "import pandas as pd\n",
    "from sklearn.datasets import load_iris\n",
    "from sklearn.model_selection import train_test_split\n",
    "from sklearn.metrics import accuracy_score\n",
    "import torch\n",
    "from torch.autograd import Variable\n",
    "import torch.nn as nn\n",
    "import torch.nn.functional as F\n",
    "import torch.optim as optim"
   ]
  },
  {
   "cell_type": "markdown",
   "metadata": {},
   "source": [
    "# Function"
   ]
  },
  {
   "cell_type": "code",
   "execution_count": 75,
   "metadata": {},
   "outputs": [],
   "source": [
    "def calc_acc(output, y_):\n",
    "    _, pred = torch.max(output.data, 1)\n",
    "    y_pred = pred.numpy()\n",
    "    y_true = np.argmax(y_, axis=1)\n",
    "    return accuracy_score(y_true, y_pred)"
   ]
  },
  {
   "cell_type": "markdown",
   "metadata": {},
   "source": [
    "# Preparation"
   ]
  },
  {
   "cell_type": "code",
   "execution_count": 64,
   "metadata": {},
   "outputs": [],
   "source": [
    "iris = load_iris()\n",
    "target = iris.target\n",
    "feat_name = iris.feature_names\n",
    "df = pd.DataFrame(iris.data, columns=feat_name)"
   ]
  },
  {
   "cell_type": "code",
   "execution_count": 65,
   "metadata": {},
   "outputs": [],
   "source": [
    "y = np.zeros((len(iris.target), 1 + iris.target.max()), dtype=int)\n",
    "y[np.arange(len(iris.target)), iris.target] = 1\n",
    "X = df.values\n",
    "X_train, X_valid, y_train, y_valid = train_test_split(X, y, test_size=0.33, random_state=42)"
   ]
  },
  {
   "cell_type": "markdown",
   "metadata": {},
   "source": [
    "# Pytorch tutorial"
   ]
  },
  {
   "cell_type": "code",
   "execution_count": 109,
   "metadata": {},
   "outputs": [],
   "source": [
    "class Net(nn.Module):\n",
    "\n",
    "    def __init__(self):\n",
    "        super(Net, self).__init__()\n",
    "        self.fc1 = nn.Linear(4, 10)\n",
    "        self.ac1 = nn.ReLU()\n",
    "        self.fc2 = nn.Linear(10, 8)\n",
    "        self.ac2 = nn.ReLU()\n",
    "        self.fc3 = nn.Linear(8, 3)\n",
    "\n",
    "    def forward(self, x):\n",
    "        x = self.ac1(self.fc1(x))\n",
    "        x = self.ac2(self.fc2(x))\n",
    "        x = self.fc3(x)\n",
    "        return x"
   ]
  },
  {
   "cell_type": "code",
   "execution_count": 110,
   "metadata": {},
   "outputs": [],
   "source": [
    "X_train_pt = Variable(torch.from_numpy(X_train).float(), requires_grad=True)\n",
    "y_train_pt = Variable(torch.from_numpy(y_train).float())"
   ]
  },
  {
   "cell_type": "code",
   "execution_count": 111,
   "metadata": {},
   "outputs": [],
   "source": []
  },
  {
   "cell_type": "code",
   "execution_count": 118,
   "metadata": {},
   "outputs": [
    {
     "name": "stdout",
     "output_type": "stream",
     "text": [
      "accuracy(0/2000):\t0.31, 0.38\n",
      "accuracy(20/2000):\t0.31, 0.38\n",
      "accuracy(40/2000):\t0.31, 0.38\n",
      "accuracy(60/2000):\t0.31, 0.38\n",
      "accuracy(80/2000):\t0.31, 0.38\n",
      "accuracy(100/2000):\t0.31, 0.38\n",
      "accuracy(120/2000):\t0.31, 0.38\n",
      "accuracy(140/2000):\t0.31, 0.38\n",
      "accuracy(160/2000):\t0.56, 0.56\n",
      "accuracy(180/2000):\t0.63, 0.66\n",
      "accuracy(200/2000):\t0.65, 0.7\n",
      "accuracy(220/2000):\t0.65, 0.7\n",
      "accuracy(240/2000):\t0.65, 0.7\n",
      "accuracy(260/2000):\t0.67, 0.7\n",
      "accuracy(280/2000):\t0.7, 0.7\n",
      "accuracy(300/2000):\t0.76, 0.74\n",
      "accuracy(320/2000):\t0.77, 0.8\n",
      "accuracy(340/2000):\t0.76, 0.8\n",
      "accuracy(360/2000):\t0.78, 0.8\n",
      "accuracy(380/2000):\t0.78, 0.8\n",
      "accuracy(400/2000):\t0.76, 0.8\n",
      "accuracy(420/2000):\t0.76, 0.8\n",
      "accuracy(440/2000):\t0.77, 0.8\n",
      "accuracy(460/2000):\t0.76, 0.8\n",
      "accuracy(480/2000):\t0.76, 0.8\n",
      "accuracy(500/2000):\t0.75, 0.8\n",
      "accuracy(520/2000):\t0.75, 0.8\n",
      "accuracy(540/2000):\t0.75, 0.8\n",
      "accuracy(560/2000):\t0.75, 0.8\n",
      "accuracy(580/2000):\t0.74, 0.8\n",
      "accuracy(600/2000):\t0.74, 0.8\n",
      "accuracy(620/2000):\t0.75, 0.8\n",
      "accuracy(640/2000):\t0.75, 0.8\n",
      "accuracy(660/2000):\t0.75, 0.8\n",
      "accuracy(680/2000):\t0.76, 0.82\n",
      "accuracy(700/2000):\t0.76, 0.82\n",
      "accuracy(720/2000):\t0.77, 0.82\n",
      "accuracy(740/2000):\t0.78, 0.82\n",
      "accuracy(760/2000):\t0.78, 0.82\n",
      "accuracy(780/2000):\t0.79, 0.82\n",
      "accuracy(800/2000):\t0.79, 0.82\n",
      "accuracy(820/2000):\t0.79, 0.82\n",
      "accuracy(840/2000):\t0.8, 0.82\n",
      "accuracy(860/2000):\t0.8, 0.82\n",
      "accuracy(880/2000):\t0.8, 0.82\n",
      "accuracy(900/2000):\t0.8, 0.82\n",
      "accuracy(920/2000):\t0.81, 0.84\n",
      "accuracy(940/2000):\t0.81, 0.84\n",
      "accuracy(960/2000):\t0.82, 0.84\n",
      "accuracy(980/2000):\t0.85, 0.86\n",
      "accuracy(1000/2000):\t0.86, 0.88\n",
      "accuracy(1020/2000):\t0.88, 0.9\n",
      "accuracy(1040/2000):\t0.88, 0.9\n",
      "accuracy(1060/2000):\t0.89, 0.9\n",
      "accuracy(1080/2000):\t0.9, 0.9\n",
      "accuracy(1100/2000):\t0.9, 0.9\n",
      "accuracy(1120/2000):\t0.9, 0.9\n",
      "accuracy(1140/2000):\t0.9, 0.9\n",
      "accuracy(1160/2000):\t0.91, 0.92\n",
      "accuracy(1180/2000):\t0.92, 0.92\n",
      "accuracy(1200/2000):\t0.92, 0.92\n",
      "accuracy(1220/2000):\t0.93, 0.92\n",
      "accuracy(1240/2000):\t0.93, 0.94\n",
      "accuracy(1260/2000):\t0.94, 0.94\n",
      "accuracy(1280/2000):\t0.94, 0.96\n",
      "accuracy(1300/2000):\t0.94, 0.96\n",
      "accuracy(1320/2000):\t0.94, 0.96\n",
      "accuracy(1340/2000):\t0.94, 0.96\n",
      "accuracy(1360/2000):\t0.94, 0.98\n",
      "accuracy(1380/2000):\t0.94, 0.98\n",
      "accuracy(1400/2000):\t0.94, 0.98\n",
      "accuracy(1420/2000):\t0.94, 1.0\n",
      "accuracy(1440/2000):\t0.94, 1.0\n",
      "accuracy(1460/2000):\t0.94, 1.0\n",
      "accuracy(1480/2000):\t0.94, 1.0\n",
      "accuracy(1500/2000):\t0.94, 1.0\n",
      "accuracy(1520/2000):\t0.94, 1.0\n",
      "accuracy(1540/2000):\t0.94, 1.0\n",
      "accuracy(1560/2000):\t0.94, 1.0\n",
      "accuracy(1580/2000):\t0.95, 1.0\n",
      "accuracy(1600/2000):\t0.96, 1.0\n",
      "accuracy(1620/2000):\t0.96, 1.0\n",
      "accuracy(1640/2000):\t0.96, 1.0\n",
      "accuracy(1660/2000):\t0.96, 1.0\n",
      "accuracy(1680/2000):\t0.96, 1.0\n",
      "accuracy(1700/2000):\t0.96, 1.0\n",
      "accuracy(1720/2000):\t0.96, 1.0\n",
      "accuracy(1740/2000):\t0.96, 1.0\n",
      "accuracy(1760/2000):\t0.96, 1.0\n",
      "accuracy(1780/2000):\t0.96, 1.0\n",
      "accuracy(1800/2000):\t0.96, 1.0\n",
      "accuracy(1820/2000):\t0.96, 1.0\n",
      "accuracy(1840/2000):\t0.96, 1.0\n",
      "accuracy(1860/2000):\t0.96, 1.0\n",
      "accuracy(1880/2000):\t0.96, 1.0\n",
      "accuracy(1900/2000):\t0.96, 1.0\n",
      "accuracy(1920/2000):\t0.96, 1.0\n",
      "accuracy(1940/2000):\t0.96, 1.0\n",
      "accuracy(1960/2000):\t0.96, 1.0\n",
      "accuracy(1980/2000):\t0.97, 1.0\n"
     ]
    }
   ],
   "source": [
    "net = Net()\n",
    "optimizer = optim.SGD(net.parameters(), lr=0.01)\n",
    "criterion = nn.MSELoss()\n",
    "\n",
    "n_iter = 2000\n",
    "for i in range(n_iter):\n",
    "    optimizer.zero_grad()\n",
    "    output = net(X_train_pt)\n",
    "    \n",
    "    if (i%20 == 0) or (i==n_iter):\n",
    "        # validation\n",
    "        output_val = net(Variable(torch.from_numpy(X_valid).float()))\n",
    "        _, pred_val = torch.max(output_val.data, 1)\n",
    "        y_pred_val = pred_val.numpy()\n",
    "        y_true_val = np.argmax(y_valid, axis=1)\n",
    "        \n",
    "        acc_valid = calc_acc(output_val, y_valid)\n",
    "        acc_train = calc_acc(output, y_train)\n",
    "        print(f'accuracy({i}/{n_iter}):\\t{acc_train}, {acc_valid}')\n",
    "    \n",
    "    loss = criterion(output, y_train_pt)\n",
    "    loss.backward()\n",
    "    optimizer.step()"
   ]
  },
  {
   "cell_type": "code",
   "execution_count": null,
   "metadata": {},
   "outputs": [],
   "source": []
  },
  {
   "cell_type": "code",
   "execution_count": null,
   "metadata": {},
   "outputs": [],
   "source": []
  },
  {
   "cell_type": "code",
   "execution_count": null,
   "metadata": {},
   "outputs": [],
   "source": []
  },
  {
   "cell_type": "code",
   "execution_count": null,
   "metadata": {},
   "outputs": [],
   "source": []
  },
  {
   "cell_type": "code",
   "execution_count": null,
   "metadata": {},
   "outputs": [],
   "source": []
  },
  {
   "cell_type": "code",
   "execution_count": null,
   "metadata": {},
   "outputs": [],
   "source": []
  },
  {
   "cell_type": "code",
   "execution_count": null,
   "metadata": {},
   "outputs": [],
   "source": []
  },
  {
   "cell_type": "code",
   "execution_count": null,
   "metadata": {},
   "outputs": [],
   "source": []
  },
  {
   "cell_type": "code",
   "execution_count": null,
   "metadata": {},
   "outputs": [],
   "source": []
  },
  {
   "cell_type": "code",
   "execution_count": null,
   "metadata": {},
   "outputs": [],
   "source": []
  },
  {
   "cell_type": "code",
   "execution_count": null,
   "metadata": {},
   "outputs": [],
   "source": []
  }
 ],
 "metadata": {
  "kernelspec": {
   "display_name": "Python 3",
   "language": "python",
   "name": "python3"
  },
  "language_info": {
   "codemirror_mode": {
    "name": "ipython",
    "version": 3
   },
   "file_extension": ".py",
   "mimetype": "text/x-python",
   "name": "python",
   "nbconvert_exporter": "python",
   "pygments_lexer": "ipython3",
   "version": "3.6.8"
  }
 },
 "nbformat": 4,
 "nbformat_minor": 4
}
