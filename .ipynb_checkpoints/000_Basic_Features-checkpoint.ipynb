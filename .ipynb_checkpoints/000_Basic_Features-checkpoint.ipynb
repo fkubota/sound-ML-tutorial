{
 "cells": [
  {
   "cell_type": "markdown",
   "metadata": {},
   "source": [
    "# Introduction\n",
    "- このノートブックでは、音から抽出される特徴量について勉強します。\n",
    "- 日本語の解説はあくまでイメージです。\n",
    "- 正確な理解のために数式をじっと見てください。"
   ]
  },
  {
   "cell_type": "markdown",
   "metadata": {},
   "source": [
    "# Features\n",
    "- CDの音源を例に取ると、1秒間に44100個ものデータが格納されています。つまり、sample rate = 44100 となります。\n",
    "- このとき、値一つ一つは音の大きさを意味しますが、それ自体から意味を見出すのは難しいことは容易に想像できます。\n",
    "- 例えば、小さい音が急に大きくなって100という値を取った。ずっと同程度の大きさ音が続いていて、その値が100だったというのは、同じ100という大きさの音でも意味がまったく違います。\n",
    "- 時系列データというのは、前後の関係が重要になります。\n",
    "- もちろん、Energy というような大きさそのものから抽出される特徴もありますが、通常は前後の関係から抽出される量を用います。\n",
    "- 今回は例として、windoe_size = 0.5 s, window_stride = 0.25 s という状況を想定します。\n",
    "- window_stride と、window_size はそれぞれ短時間フーリエ変換のパラメータです。(調べてください。)\n",
    "---\n",
    "**以下でよく使う特徴量について簡単に解説します。**  \n",
    "- 使う記号について   \n",
    "sr = sample_rate  \n",
    "$X$ は、signalをフーリエ変換したものです。ある周波数$f$のときの強度を$X(f)$と書きます。  \n",
    "$x$ は、signal から window_size 分だけ、抜き出したものです。  \n",
    "$x = \\{x_1, x_2, ... \\}$\n",
    "例) sample rate = 44100 のデータかつ、window_size = 0.5 sec の場合、$x$には$44100 \\times 0.5$ だけのデータが入っています。  \n",
    "\n",
    "問題)  \n",
    "データが10秒分ある場合、signalのデータ点は、$44100 \\times 10$だけデータがあります。  \n",
    "このとき、抽出される特徴量のデータ数は何個あるでしょうか。  \n",
    "計算してみてください。"
   ]
  },
  {
   "cell_type": "markdown",
   "metadata": {},
   "source": [
    "---"
   ]
  },
  {
   "cell_type": "markdown",
   "metadata": {},
   "source": [
    "## $ZCR(x)$\n",
    "**ZCR:zero crossing rate**"
   ]
  },
  {
   "cell_type": "markdown",
   "metadata": {},
   "source": [
    "- x が＋ から - に切り替わるタイミング、つまり、$x=0$を通過する回数です。\n",
    "- この量が重要な理由は私はよくわかりません。\n",
    "- 細かい係数などは、ライブラリによって違いますの、ZCRの値そのもは単純に回数ではないことは頭に置いておいてください。"
   ]
  },
  {
   "cell_type": "markdown",
   "metadata": {},
   "source": [
    "---"
   ]
  },
  {
   "cell_type": "markdown",
   "metadata": {},
   "source": [
    "## $Energy(x)$\n",
    "$$\n",
    "Energy = \\sum _i x_i ^2\n",
    "$$\n",
    "\n",
    "見てのとおりです。"
   ]
  },
  {
   "cell_type": "markdown",
   "metadata": {},
   "source": [
    "---"
   ]
  },
  {
   "cell_type": "markdown",
   "metadata": {},
   "source": [
    "## $EnergyEntropy(x)$\n",
    "シグナル $x$を10こずつに分け、それぞれで、エネルギーを計算します(微小エネルギーと今は呼びます)。  \n",
    "微小エネルギーを $e_j$と書きます。 また、全体のエネルギ-を$E$と書けば、エナジーエントロピーは、\n",
    "\n",
    "$$\n",
    "EnergyEntropy = - \\sum _j \\frac{e_j}{E} \\log_2 \\frac{e_j}{E}\n",
    "$$\n",
    "\n",
    "$e_j /E$は0~1の値を取ります。 \n",
    "微小エネルギーが偏っていれば、大きな値をとり、平均的に散らばっていれば、小さな値をとります。"
   ]
  },
  {
   "cell_type": "markdown",
   "metadata": {},
   "source": [
    "---"
   ]
  },
  {
   "cell_type": "markdown",
   "metadata": {},
   "source": [
    "## $SpectralCentroid(X)$\n",
    "$$\n",
    "SpectralCentroid = \\frac {\\int f |X(f)|df}{\\int  |X(f)|df}\n",
    "$$\n",
    "\n",
    "$p(f)df = \\frac {|X(f)|df}{\\int  |X(f)|df}$ は、微小区間 $df$ 内の周波数$f$の確率(p(f)は確率密度)を表すことが式からわかります。($f$で積分すると1になりますね。)  \n",
    "微小区間の確率$p(f)df$ と、$f$ を掛けて積分しているので、$f$の平均値を計算していることがわかると思います。  \n",
    "スペクトルの平均 = スペクトルの重心 = SpectralCentroid というわけです。\n",
    "\n",
    "\n",
    "この式は、以下の式と同じ形だと思えば理解しやすいですね。  \n",
    "$x$: 質点の座標  \n",
    "$\\rho$ : 線密度   \n",
    "の時、重心の座標は  \n",
    "$$\n",
    "x_G = \\frac{\\int x \\rho (x) dx}{\\int \\rho (x) dx}\n",
    "$$"
   ]
  },
  {
   "cell_type": "markdown",
   "metadata": {},
   "source": [
    "---"
   ]
  },
  {
   "cell_type": "markdown",
   "metadata": {},
   "source": [
    "## $SpectralSpread(X)$\n",
    "$$\n",
    "SpectralSpread = \\sqrt{\\frac{\\int (f-\\hat{f})^2|X(f)|df}{\\int |X(f)|df}}\n",
    "$$\n",
    "ここで、$\\hat{f}$ は SpectralCentroid である。  \n",
    "先程出てきた確率密度 $p(f)$を使って表すと、\n",
    "$$\n",
    "SpectralSpread = \\sqrt{\\int (f - \\hat{f})^2 p(f) df }\n",
    "$$\n",
    "となります。  \n",
    "明らかに偏差の式になってますね。 \n",
    "つまり、スペクトルの広がりを表しています。  "
   ]
  },
  {
   "cell_type": "markdown",
   "metadata": {},
   "source": [
    "---"
   ]
  },
  {
   "cell_type": "markdown",
   "metadata": {},
   "source": [
    "## $SpectralEntropy(X)$\n",
    "EnergyEntropy でやったことと同じです。  \n",
    "シグナルをスペクトルで置き換えればいいです。"
   ]
  },
  {
   "cell_type": "markdown",
   "metadata": {},
   "source": [
    "---"
   ]
  },
  {
   "cell_type": "markdown",
   "metadata": {},
   "source": [
    "## $SpectralFlux(X)$\n",
    "$$\n",
    "SpectralFlux := \\int \\left(\\frac{|X(f)|}{\\int{|X(f)|}df}-\\frac{|X(f)_{prev}|}{\\int{|X(f)_{prev}|}df}   \\right) ^2df\n",
    "$$\n",
    "\n",
    "ここで、$X(f)_{prev}$ は一つ前の $X(f)$ の値である。\n",
    "各周波数$f$の強度$X(f)$の差を見ていますので、変化が大きいほど大きな値になります。  \n",
    "局所的な変化にも反応しますが、スペクトルが全体的に変化したとにに大きく機能します。"
   ]
  },
  {
   "cell_type": "markdown",
   "metadata": {},
   "source": [
    "---"
   ]
  },
  {
   "cell_type": "markdown",
   "metadata": {},
   "source": [
    "## $SpectralRollOff(X)$\n",
    "\n",
    "$$\n",
    "argmin \\left \\{s | \\alpha \\int{|X(f)|^2}df < \\int^{s}_{- \\infty}{|X(f)|^2}df  \\right\\}/f_{max}\n",
    "$$\n",
    "\n",
    "$\\alpha$ のデフォルト値は、0.9 です。  \n",
    "ロールオフは初めは解釈が難しいですが、じっくり数式を見れば理解できます。"
   ]
  },
  {
   "cell_type": "markdown",
   "metadata": {},
   "source": [
    "{ } 内の不等号を満たすような最小の$\\alpha$は何かを考えることがポイントです。  \n",
    "不等号の左辺から見ていきます。全区間で積分しているので、スペクトルの面積を計算しています。  \n",
    "それに $\\alpha=0.9$がかかっているので、全面積の90%になります。   \n",
    "不等号の右辺の$s$は、積分をどこまで行うのかを示しています。   \n",
    "不等号の意味を考えると、面積の90%程度になるためには、どこまで積分すれば良いのか？  \n",
    "という意味になります。  \n",
    "もし、低い音がたくさん含まれる音であれば、スペクトルは、低周波側に大きな値を持つスペクトルとなります。  \n",
    "その場合は、$s$ は小さな値をとります。  \n",
    "逆に、高い音が多く含まれている音であれば、$s$は大きくなります。  "
   ]
  },
  {
   "cell_type": "code",
   "execution_count": null,
   "metadata": {},
   "outputs": [],
   "source": []
  }
 ],
 "metadata": {
  "kernelspec": {
   "display_name": "Python 3",
   "language": "python",
   "name": "python3"
  },
  "language_info": {
   "codemirror_mode": {
    "name": "ipython",
    "version": 3
   },
   "file_extension": ".py",
   "mimetype": "text/x-python",
   "name": "python",
   "nbconvert_exporter": "python",
   "pygments_lexer": "ipython3",
   "version": "3.6.8"
  },
  "toc-autonumbering": true
 },
 "nbformat": 4,
 "nbformat_minor": 2
}
